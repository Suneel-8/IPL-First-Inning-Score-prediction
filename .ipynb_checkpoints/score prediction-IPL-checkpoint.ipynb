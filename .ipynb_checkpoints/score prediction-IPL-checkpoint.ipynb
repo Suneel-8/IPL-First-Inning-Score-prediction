{
 "cells": [
  {
   "cell_type": "code",
   "execution_count": 1,
   "metadata": {},
   "outputs": [],
   "source": [
    "import numpy as np\n",
    "from matplotlib import pyplot as plt\n",
    "import pandas as pd\n",
    "import seaborn as sns"
   ]
  },
  {
   "cell_type": "code",
   "execution_count": 2,
   "metadata": {},
   "outputs": [],
   "source": [
    "df=pd.read_csv('ipl_data.csv',parse_dates=['date'])"
   ]
  },
  {
   "cell_type": "code",
   "execution_count": 3,
   "metadata": {
    "scrolled": true
   },
   "outputs": [
    {
     "data": {
      "text/html": [
       "<div>\n",
       "<style scoped>\n",
       "    .dataframe tbody tr th:only-of-type {\n",
       "        vertical-align: middle;\n",
       "    }\n",
       "\n",
       "    .dataframe tbody tr th {\n",
       "        vertical-align: top;\n",
       "    }\n",
       "\n",
       "    .dataframe thead th {\n",
       "        text-align: right;\n",
       "    }\n",
       "</style>\n",
       "<table border=\"1\" class=\"dataframe\">\n",
       "  <thead>\n",
       "    <tr style=\"text-align: right;\">\n",
       "      <th></th>\n",
       "      <th>mid</th>\n",
       "      <th>date</th>\n",
       "      <th>venue</th>\n",
       "      <th>bat_team</th>\n",
       "      <th>bowl_team</th>\n",
       "      <th>batsman</th>\n",
       "      <th>bowler</th>\n",
       "      <th>runs</th>\n",
       "      <th>wickets</th>\n",
       "      <th>overs</th>\n",
       "      <th>runs_last_5</th>\n",
       "      <th>wickets_last_5</th>\n",
       "      <th>striker</th>\n",
       "      <th>non-striker</th>\n",
       "      <th>total</th>\n",
       "    </tr>\n",
       "  </thead>\n",
       "  <tbody>\n",
       "    <tr>\n",
       "      <th>0</th>\n",
       "      <td>1</td>\n",
       "      <td>2008-04-18</td>\n",
       "      <td>M Chinnaswamy Stadium</td>\n",
       "      <td>Kolkata Knight Riders</td>\n",
       "      <td>Royal Challengers Bangalore</td>\n",
       "      <td>SC Ganguly</td>\n",
       "      <td>P Kumar</td>\n",
       "      <td>1</td>\n",
       "      <td>0</td>\n",
       "      <td>0.1</td>\n",
       "      <td>1</td>\n",
       "      <td>0</td>\n",
       "      <td>0</td>\n",
       "      <td>0</td>\n",
       "      <td>222</td>\n",
       "    </tr>\n",
       "    <tr>\n",
       "      <th>1</th>\n",
       "      <td>1</td>\n",
       "      <td>2008-04-18</td>\n",
       "      <td>M Chinnaswamy Stadium</td>\n",
       "      <td>Kolkata Knight Riders</td>\n",
       "      <td>Royal Challengers Bangalore</td>\n",
       "      <td>BB McCullum</td>\n",
       "      <td>P Kumar</td>\n",
       "      <td>1</td>\n",
       "      <td>0</td>\n",
       "      <td>0.2</td>\n",
       "      <td>1</td>\n",
       "      <td>0</td>\n",
       "      <td>0</td>\n",
       "      <td>0</td>\n",
       "      <td>222</td>\n",
       "    </tr>\n",
       "    <tr>\n",
       "      <th>2</th>\n",
       "      <td>1</td>\n",
       "      <td>2008-04-18</td>\n",
       "      <td>M Chinnaswamy Stadium</td>\n",
       "      <td>Kolkata Knight Riders</td>\n",
       "      <td>Royal Challengers Bangalore</td>\n",
       "      <td>BB McCullum</td>\n",
       "      <td>P Kumar</td>\n",
       "      <td>2</td>\n",
       "      <td>0</td>\n",
       "      <td>0.2</td>\n",
       "      <td>2</td>\n",
       "      <td>0</td>\n",
       "      <td>0</td>\n",
       "      <td>0</td>\n",
       "      <td>222</td>\n",
       "    </tr>\n",
       "    <tr>\n",
       "      <th>3</th>\n",
       "      <td>1</td>\n",
       "      <td>2008-04-18</td>\n",
       "      <td>M Chinnaswamy Stadium</td>\n",
       "      <td>Kolkata Knight Riders</td>\n",
       "      <td>Royal Challengers Bangalore</td>\n",
       "      <td>BB McCullum</td>\n",
       "      <td>P Kumar</td>\n",
       "      <td>2</td>\n",
       "      <td>0</td>\n",
       "      <td>0.3</td>\n",
       "      <td>2</td>\n",
       "      <td>0</td>\n",
       "      <td>0</td>\n",
       "      <td>0</td>\n",
       "      <td>222</td>\n",
       "    </tr>\n",
       "    <tr>\n",
       "      <th>4</th>\n",
       "      <td>1</td>\n",
       "      <td>2008-04-18</td>\n",
       "      <td>M Chinnaswamy Stadium</td>\n",
       "      <td>Kolkata Knight Riders</td>\n",
       "      <td>Royal Challengers Bangalore</td>\n",
       "      <td>BB McCullum</td>\n",
       "      <td>P Kumar</td>\n",
       "      <td>2</td>\n",
       "      <td>0</td>\n",
       "      <td>0.4</td>\n",
       "      <td>2</td>\n",
       "      <td>0</td>\n",
       "      <td>0</td>\n",
       "      <td>0</td>\n",
       "      <td>222</td>\n",
       "    </tr>\n",
       "  </tbody>\n",
       "</table>\n",
       "</div>"
      ],
      "text/plain": [
       "   mid       date                  venue               bat_team  \\\n",
       "0    1 2008-04-18  M Chinnaswamy Stadium  Kolkata Knight Riders   \n",
       "1    1 2008-04-18  M Chinnaswamy Stadium  Kolkata Knight Riders   \n",
       "2    1 2008-04-18  M Chinnaswamy Stadium  Kolkata Knight Riders   \n",
       "3    1 2008-04-18  M Chinnaswamy Stadium  Kolkata Knight Riders   \n",
       "4    1 2008-04-18  M Chinnaswamy Stadium  Kolkata Knight Riders   \n",
       "\n",
       "                     bowl_team      batsman   bowler  runs  wickets  overs  \\\n",
       "0  Royal Challengers Bangalore   SC Ganguly  P Kumar     1        0    0.1   \n",
       "1  Royal Challengers Bangalore  BB McCullum  P Kumar     1        0    0.2   \n",
       "2  Royal Challengers Bangalore  BB McCullum  P Kumar     2        0    0.2   \n",
       "3  Royal Challengers Bangalore  BB McCullum  P Kumar     2        0    0.3   \n",
       "4  Royal Challengers Bangalore  BB McCullum  P Kumar     2        0    0.4   \n",
       "\n",
       "   runs_last_5  wickets_last_5  striker  non-striker  total  \n",
       "0            1               0        0            0    222  \n",
       "1            1               0        0            0    222  \n",
       "2            2               0        0            0    222  \n",
       "3            2               0        0            0    222  \n",
       "4            2               0        0            0    222  "
      ]
     },
     "execution_count": 3,
     "metadata": {},
     "output_type": "execute_result"
    }
   ],
   "source": [
    "df.head()"
   ]
  },
  {
   "cell_type": "code",
   "execution_count": 4,
   "metadata": {},
   "outputs": [
    {
     "data": {
      "text/plain": [
       "mid                        int64\n",
       "date              datetime64[ns]\n",
       "venue                     object\n",
       "bat_team                  object\n",
       "bowl_team                 object\n",
       "batsman                   object\n",
       "bowler                    object\n",
       "runs                       int64\n",
       "wickets                    int64\n",
       "overs                    float64\n",
       "runs_last_5                int64\n",
       "wickets_last_5             int64\n",
       "striker                    int64\n",
       "non-striker                int64\n",
       "total                      int64\n",
       "dtype: object"
      ]
     },
     "execution_count": 4,
     "metadata": {},
     "output_type": "execute_result"
    }
   ],
   "source": [
    "df.dtypes"
   ]
  },
  {
   "cell_type": "code",
   "execution_count": 5,
   "metadata": {},
   "outputs": [
    {
     "data": {
      "text/plain": [
       "(76014, 15)"
      ]
     },
     "execution_count": 5,
     "metadata": {},
     "output_type": "execute_result"
    }
   ],
   "source": [
    "df.shape"
   ]
  },
  {
   "cell_type": "markdown",
   "metadata": {},
   "source": [
    "# Data cleaning"
   ]
  },
  {
   "cell_type": "code",
   "execution_count": 6,
   "metadata": {},
   "outputs": [
    {
     "data": {
      "text/plain": [
       "mid               0\n",
       "date              0\n",
       "venue             0\n",
       "bat_team          0\n",
       "bowl_team         0\n",
       "batsman           0\n",
       "bowler            0\n",
       "runs              0\n",
       "wickets           0\n",
       "overs             0\n",
       "runs_last_5       0\n",
       "wickets_last_5    0\n",
       "striker           0\n",
       "non-striker       0\n",
       "total             0\n",
       "dtype: int64"
      ]
     },
     "execution_count": 6,
     "metadata": {},
     "output_type": "execute_result"
    }
   ],
   "source": [
    "df.isnull().sum()"
   ]
  },
  {
   "cell_type": "code",
   "execution_count": 7,
   "metadata": {},
   "outputs": [],
   "source": [
    "df=df.drop(['mid','venue','striker','batsman','bowler','striker',\n",
    "       'non-striker'],axis=1)"
   ]
  },
  {
   "cell_type": "code",
   "execution_count": 8,
   "metadata": {},
   "outputs": [],
   "source": [
    "#removing data of below 5 overs of every matches\n",
    "df=df[df['overs']>=5.0]"
   ]
  },
  {
   "cell_type": "code",
   "execution_count": 9,
   "metadata": {},
   "outputs": [],
   "source": [
    "df=df.set_index('date')"
   ]
  },
  {
   "cell_type": "code",
   "execution_count": 10,
   "metadata": {},
   "outputs": [],
   "source": [
    "df=df.replace('Delhi Daredevils','Delhi Capitals')"
   ]
  },
  {
   "cell_type": "code",
   "execution_count": 11,
   "metadata": {},
   "outputs": [
    {
     "data": {
      "text/plain": [
       "array(['Kolkata Knight Riders', 'Chennai Super Kings', 'Rajasthan Royals',\n",
       "       'Mumbai Indians', 'Deccan Chargers', 'Kings XI Punjab',\n",
       "       'Royal Challengers Bangalore', 'Delhi Capitals',\n",
       "       'Kochi Tuskers Kerala', 'Pune Warriors', 'Sunrisers Hyderabad',\n",
       "       'Rising Pune Supergiants', 'Gujarat Lions',\n",
       "       'Rising Pune Supergiant'], dtype=object)"
      ]
     },
     "execution_count": 11,
     "metadata": {},
     "output_type": "execute_result"
    }
   ],
   "source": [
    "df['bat_team'].unique()"
   ]
  },
  {
   "cell_type": "code",
   "execution_count": 12,
   "metadata": {},
   "outputs": [],
   "source": [
    "current_team=['Kolkata Knight Riders','Chennai Super Kings', 'Rajasthan Royals',\n",
    "       'Mumbai Indians', 'Kings XI Punjab',\n",
    "       'Royal Challengers Bangalore', 'Delhi Capitals', 'Sunrisers Hyderabad',]"
   ]
  },
  {
   "cell_type": "code",
   "execution_count": 13,
   "metadata": {},
   "outputs": [
    {
     "name": "stdout",
     "output_type": "stream",
     "text": [
      "number of rows before: 56707\n",
      "number of rows after: 40108\n"
     ]
    }
   ],
   "source": [
    "# keeping data of only those matches which is played between current team\n",
    "print(f'number of rows before: {len(df)}')\n",
    "df=df[df['bowl_team'].isin(current_team) &df['bat_team'].isin(current_team)]\n",
    "print(f'number of rows after: {len(df)}')"
   ]
  },
  {
   "cell_type": "markdown",
   "metadata": {},
   "source": [
    "# Exploratory data analysis"
   ]
  },
  {
   "cell_type": "code",
   "execution_count": 14,
   "metadata": {},
   "outputs": [
    {
     "data": {
      "text/html": [
       "<div>\n",
       "<style scoped>\n",
       "    .dataframe tbody tr th:only-of-type {\n",
       "        vertical-align: middle;\n",
       "    }\n",
       "\n",
       "    .dataframe tbody tr th {\n",
       "        vertical-align: top;\n",
       "    }\n",
       "\n",
       "    .dataframe thead th {\n",
       "        text-align: right;\n",
       "    }\n",
       "</style>\n",
       "<table border=\"1\" class=\"dataframe\">\n",
       "  <thead>\n",
       "    <tr style=\"text-align: right;\">\n",
       "      <th></th>\n",
       "      <th>bat_team</th>\n",
       "      <th>bowl_team</th>\n",
       "      <th>runs</th>\n",
       "      <th>wickets</th>\n",
       "      <th>overs</th>\n",
       "      <th>runs_last_5</th>\n",
       "      <th>wickets_last_5</th>\n",
       "      <th>total</th>\n",
       "    </tr>\n",
       "    <tr>\n",
       "      <th>date</th>\n",
       "      <th></th>\n",
       "      <th></th>\n",
       "      <th></th>\n",
       "      <th></th>\n",
       "      <th></th>\n",
       "      <th></th>\n",
       "      <th></th>\n",
       "      <th></th>\n",
       "    </tr>\n",
       "  </thead>\n",
       "  <tbody>\n",
       "    <tr>\n",
       "      <th>2008-04-18</th>\n",
       "      <td>Kolkata Knight Riders</td>\n",
       "      <td>Royal Challengers Bangalore</td>\n",
       "      <td>61</td>\n",
       "      <td>0</td>\n",
       "      <td>5.1</td>\n",
       "      <td>59</td>\n",
       "      <td>0</td>\n",
       "      <td>222</td>\n",
       "    </tr>\n",
       "    <tr>\n",
       "      <th>2008-04-18</th>\n",
       "      <td>Kolkata Knight Riders</td>\n",
       "      <td>Royal Challengers Bangalore</td>\n",
       "      <td>61</td>\n",
       "      <td>1</td>\n",
       "      <td>5.2</td>\n",
       "      <td>59</td>\n",
       "      <td>1</td>\n",
       "      <td>222</td>\n",
       "    </tr>\n",
       "    <tr>\n",
       "      <th>2008-04-18</th>\n",
       "      <td>Kolkata Knight Riders</td>\n",
       "      <td>Royal Challengers Bangalore</td>\n",
       "      <td>61</td>\n",
       "      <td>1</td>\n",
       "      <td>5.3</td>\n",
       "      <td>59</td>\n",
       "      <td>1</td>\n",
       "      <td>222</td>\n",
       "    </tr>\n",
       "    <tr>\n",
       "      <th>2008-04-18</th>\n",
       "      <td>Kolkata Knight Riders</td>\n",
       "      <td>Royal Challengers Bangalore</td>\n",
       "      <td>61</td>\n",
       "      <td>1</td>\n",
       "      <td>5.4</td>\n",
       "      <td>59</td>\n",
       "      <td>1</td>\n",
       "      <td>222</td>\n",
       "    </tr>\n",
       "    <tr>\n",
       "      <th>2008-04-18</th>\n",
       "      <td>Kolkata Knight Riders</td>\n",
       "      <td>Royal Challengers Bangalore</td>\n",
       "      <td>61</td>\n",
       "      <td>1</td>\n",
       "      <td>5.5</td>\n",
       "      <td>58</td>\n",
       "      <td>1</td>\n",
       "      <td>222</td>\n",
       "    </tr>\n",
       "    <tr>\n",
       "      <th>...</th>\n",
       "      <td>...</td>\n",
       "      <td>...</td>\n",
       "      <td>...</td>\n",
       "      <td>...</td>\n",
       "      <td>...</td>\n",
       "      <td>...</td>\n",
       "      <td>...</td>\n",
       "      <td>...</td>\n",
       "    </tr>\n",
       "    <tr>\n",
       "      <th>2017-05-19</th>\n",
       "      <td>Kolkata Knight Riders</td>\n",
       "      <td>Mumbai Indians</td>\n",
       "      <td>106</td>\n",
       "      <td>9</td>\n",
       "      <td>18.1</td>\n",
       "      <td>29</td>\n",
       "      <td>4</td>\n",
       "      <td>107</td>\n",
       "    </tr>\n",
       "    <tr>\n",
       "      <th>2017-05-19</th>\n",
       "      <td>Kolkata Knight Riders</td>\n",
       "      <td>Mumbai Indians</td>\n",
       "      <td>107</td>\n",
       "      <td>9</td>\n",
       "      <td>18.2</td>\n",
       "      <td>29</td>\n",
       "      <td>4</td>\n",
       "      <td>107</td>\n",
       "    </tr>\n",
       "    <tr>\n",
       "      <th>2017-05-19</th>\n",
       "      <td>Kolkata Knight Riders</td>\n",
       "      <td>Mumbai Indians</td>\n",
       "      <td>107</td>\n",
       "      <td>9</td>\n",
       "      <td>18.3</td>\n",
       "      <td>28</td>\n",
       "      <td>4</td>\n",
       "      <td>107</td>\n",
       "    </tr>\n",
       "    <tr>\n",
       "      <th>2017-05-19</th>\n",
       "      <td>Kolkata Knight Riders</td>\n",
       "      <td>Mumbai Indians</td>\n",
       "      <td>107</td>\n",
       "      <td>9</td>\n",
       "      <td>18.4</td>\n",
       "      <td>24</td>\n",
       "      <td>4</td>\n",
       "      <td>107</td>\n",
       "    </tr>\n",
       "    <tr>\n",
       "      <th>2017-05-19</th>\n",
       "      <td>Kolkata Knight Riders</td>\n",
       "      <td>Mumbai Indians</td>\n",
       "      <td>107</td>\n",
       "      <td>10</td>\n",
       "      <td>18.5</td>\n",
       "      <td>23</td>\n",
       "      <td>5</td>\n",
       "      <td>107</td>\n",
       "    </tr>\n",
       "  </tbody>\n",
       "</table>\n",
       "<p>40108 rows × 8 columns</p>\n",
       "</div>"
      ],
      "text/plain": [
       "                         bat_team                    bowl_team  runs  wickets  \\\n",
       "date                                                                            \n",
       "2008-04-18  Kolkata Knight Riders  Royal Challengers Bangalore    61        0   \n",
       "2008-04-18  Kolkata Knight Riders  Royal Challengers Bangalore    61        1   \n",
       "2008-04-18  Kolkata Knight Riders  Royal Challengers Bangalore    61        1   \n",
       "2008-04-18  Kolkata Knight Riders  Royal Challengers Bangalore    61        1   \n",
       "2008-04-18  Kolkata Knight Riders  Royal Challengers Bangalore    61        1   \n",
       "...                           ...                          ...   ...      ...   \n",
       "2017-05-19  Kolkata Knight Riders               Mumbai Indians   106        9   \n",
       "2017-05-19  Kolkata Knight Riders               Mumbai Indians   107        9   \n",
       "2017-05-19  Kolkata Knight Riders               Mumbai Indians   107        9   \n",
       "2017-05-19  Kolkata Knight Riders               Mumbai Indians   107        9   \n",
       "2017-05-19  Kolkata Knight Riders               Mumbai Indians   107       10   \n",
       "\n",
       "            overs  runs_last_5  wickets_last_5  total  \n",
       "date                                                   \n",
       "2008-04-18    5.1           59               0    222  \n",
       "2008-04-18    5.2           59               1    222  \n",
       "2008-04-18    5.3           59               1    222  \n",
       "2008-04-18    5.4           59               1    222  \n",
       "2008-04-18    5.5           58               1    222  \n",
       "...           ...          ...             ...    ...  \n",
       "2017-05-19   18.1           29               4    107  \n",
       "2017-05-19   18.2           29               4    107  \n",
       "2017-05-19   18.3           28               4    107  \n",
       "2017-05-19   18.4           24               4    107  \n",
       "2017-05-19   18.5           23               5    107  \n",
       "\n",
       "[40108 rows x 8 columns]"
      ]
     },
     "execution_count": 14,
     "metadata": {},
     "output_type": "execute_result"
    }
   ],
   "source": [
    "df"
   ]
  },
  {
   "cell_type": "code",
   "execution_count": 15,
   "metadata": {},
   "outputs": [
    {
     "data": {
      "text/plain": [
       "<matplotlib.axes._subplots.AxesSubplot at 0x7f93952dbad0>"
      ]
     },
     "execution_count": 15,
     "metadata": {},
     "output_type": "execute_result"
    },
    {
     "data": {
      "image/png": "[encoded data removed]",
      "text/plain": [
       "<Figure size 432x288 with 1 Axes>"
      ]
     },
     "metadata": {
      "needs_background": "light"
     },
     "output_type": "display_data"
    }
   ],
   "source": [
    "sns.distplot(df['total'])"
   ]
  },
  {
   "cell_type": "code",
   "execution_count": 16,
   "metadata": {},
   "outputs": [
    {
     "data": {
      "text/plain": [
       "Index(['bat_team', 'bowl_team', 'runs', 'wickets', 'overs', 'runs_last_5',\n",
       "       'wickets_last_5', 'total'],\n",
       "      dtype='object')"
      ]
     },
     "execution_count": 16,
     "metadata": {},
     "output_type": "execute_result"
    }
   ],
   "source": [
    "df.columns"
   ]
  },
  {
   "cell_type": "code",
   "execution_count": 17,
   "metadata": {},
   "outputs": [
    {
     "data": {
      "text/plain": [
       "<seaborn.axisgrid.PairGrid at 0x7f939388ae10>"
      ]
     },
     "execution_count": 17,
     "metadata": {},
     "output_type": "execute_result"
    },
    {
     "data": {
      "image/png": "[encoded data removed]",
      "text/plain": [
       "<Figure size 900x180 with 5 Axes>"
      ]
     },
     "metadata": {
      "needs_background": "light"
     },
     "output_type": "display_data"
    }
   ],
   "source": [
    "sns.pairplot(data=df,x_vars=['runs', 'wickets', 'overs', 'runs_last_5',\n",
    "       'wickets_last_5'],y_vars='total')"
   ]
  },
  {
   "cell_type": "code",
   "execution_count": 18,
   "metadata": {},
   "outputs": [
    {
     "data": {
      "text/plain": [
       "<matplotlib.axes._subplots.AxesSubplot at 0x7f93936e4fd0>"
      ]
     },
     "execution_count": 18,
     "metadata": {},
     "output_type": "execute_result"
    },
    {
     "data": {
      "image/png": "[encoded data removed]",
      "text/plain": [
       "<Figure size 432x288 with 1 Axes>"
      ]
     },
     "metadata": {
      "needs_background": "light"
     },
     "output_type": "display_data"
    }
   ],
   "source": [
    "sns.scatterplot(x=df['runs'],y=df['runs_last_5'],hue=df['total'])"
   ]
  },
  {
   "cell_type": "code",
   "execution_count": 19,
   "metadata": {},
   "outputs": [
    {
     "data": {
      "text/plain": [
       "<matplotlib.axes._subplots.AxesSubplot at 0x7f93936803d0>"
      ]
     },
     "execution_count": 19,
     "metadata": {},
     "output_type": "execute_result"
    },
    {
     "data": {
      "image/png": "[encoded data removed]",
      "text/plain": [
       "<Figure size 432x288 with 1 Axes>"
      ]
     },
     "metadata": {
      "needs_background": "light"
     },
     "output_type": "display_data"
    }
   ],
   "source": [
    "sns.scatterplot(x=df['wickets'],y=df['wickets_last_5'],hue=df['total'])"
   ]
  },
  {
   "cell_type": "code",
   "execution_count": 20,
   "metadata": {},
   "outputs": [
    {
     "data": {
      "text/plain": [
       "<matplotlib.axes._subplots.AxesSubplot at 0x7f9391da6b10>"
      ]
     },
     "execution_count": 20,
     "metadata": {},
     "output_type": "execute_result"
    },
    {
     "data": {
      "image/png": "[encoded data removed]",
      "text/plain": [
       "<Figure size 432x288 with 2 Axes>"
      ]
     },
     "metadata": {
      "needs_background": "light"
     },
     "output_type": "display_data"
    }
   ],
   "source": [
    "sns.heatmap(df.corr(),cmap='Blues',annot=True,robust=True)"
   ]
  },
  {
   "cell_type": "markdown",
   "metadata": {},
   "source": [
    "# Encoding categorical data"
   ]
  },
  {
   "cell_type": "code",
   "execution_count": 21,
   "metadata": {},
   "outputs": [],
   "source": [
    "#encoding bowl team and bat team\n",
    "bat_df=pd.get_dummies(df['bat_team'],prefix='bat_team')\n",
    "bowl_df=pd.get_dummies(df['bowl_team'],prefix='bowl_team')\n",
    "df=pd.concat([bat_df,bowl_df,df],axis=1)"
   ]
  },
  {
   "cell_type": "code",
   "execution_count": 22,
   "metadata": {},
   "outputs": [
    {
     "data": {
      "text/plain": [
       "Index(['bat_team_Chennai Super Kings', 'bat_team_Delhi Capitals',\n",
       "       'bat_team_Kings XI Punjab', 'bat_team_Kolkata Knight Riders',\n",
       "       'bat_team_Mumbai Indians', 'bat_team_Rajasthan Royals',\n",
       "       'bat_team_Royal Challengers Bangalore', 'bat_team_Sunrisers Hyderabad',\n",
       "       'bowl_team_Chennai Super Kings', 'bowl_team_Delhi Capitals',\n",
       "       'bowl_team_Kings XI Punjab', 'bowl_team_Kolkata Knight Riders',\n",
       "       'bowl_team_Mumbai Indians', 'bowl_team_Rajasthan Royals',\n",
       "       'bowl_team_Royal Challengers Bangalore',\n",
       "       'bowl_team_Sunrisers Hyderabad', 'bat_team', 'bowl_team', 'runs',\n",
       "       'wickets', 'overs', 'runs_last_5', 'wickets_last_5', 'total'],\n",
       "      dtype='object')"
      ]
     },
     "execution_count": 22,
     "metadata": {},
     "output_type": "execute_result"
    }
   ],
   "source": [
    "df.columns"
   ]
  },
  {
   "cell_type": "code",
   "execution_count": 23,
   "metadata": {},
   "outputs": [],
   "source": [
    "#[runs_last_5]  gives negative coefficient (-0.0265) due to  its multicollinearity with [runs] so it is also droped\n",
    "#To avoid dummy variables trap Sunrisers Hyderabad is remvoed\n",
    "df=df.drop(['bat_team','bowl_team','bowl_team_Sunrisers Hyderabad','bat_team_Sunrisers Hyderabad','runs_last_5'],axis=1)"
   ]
  },
  {
   "cell_type": "markdown",
   "metadata": {},
   "source": [
    "# Data spliting"
   ]
  },
  {
   "cell_type": "code",
   "execution_count": 25,
   "metadata": {},
   "outputs": [],
   "source": [
    "#Training data (2008-2016)\n",
    "train_df=df.iloc[df.index.year<2017]\n",
    "train_df=train_df.reset_index()\n",
    "x_train=train_df.iloc[:,1:19].values\n",
    "y_train=train_df.iloc[:, 19].values"
   ]
  },
  {
   "cell_type": "code",
   "execution_count": 26,
   "metadata": {},
   "outputs": [],
   "source": [
    "#Testing data(2017)\n",
    "test_df=df.iloc[df.index.year>=2017]\n",
    "test_df=test_df.reset_index()\n",
    "x_test=test_df.iloc[:, 1:19].values\n",
    "y_test=test_df.iloc[:, 19].values"
   ]
  },
  {
   "cell_type": "code",
   "execution_count": 27,
   "metadata": {},
   "outputs": [
    {
     "data": {
      "text/plain": [
       "(37330, 18)"
      ]
     },
     "execution_count": 27,
     "metadata": {},
     "output_type": "execute_result"
    }
   ],
   "source": [
    "x_train.shape"
   ]
  },
  {
   "cell_type": "code",
   "execution_count": 28,
   "metadata": {},
   "outputs": [
    {
     "data": {
      "text/plain": [
       "(37330,)"
      ]
     },
     "execution_count": 28,
     "metadata": {},
     "output_type": "execute_result"
    }
   ],
   "source": [
    "y_train.shape"
   ]
  },
  {
   "cell_type": "code",
   "execution_count": 29,
   "metadata": {},
   "outputs": [
    {
     "data": {
      "text/plain": [
       "(2778, 18)"
      ]
     },
     "execution_count": 29,
     "metadata": {},
     "output_type": "execute_result"
    }
   ],
   "source": [
    "x_test.shape"
   ]
  },
  {
   "cell_type": "code",
   "execution_count": 30,
   "metadata": {},
   "outputs": [
    {
     "data": {
      "text/plain": [
       "(2778,)"
      ]
     },
     "execution_count": 30,
     "metadata": {},
     "output_type": "execute_result"
    }
   ],
   "source": [
    "y_test.shape"
   ]
  },
  {
   "cell_type": "markdown",
   "metadata": {},
   "source": [
    "# Feature Scaling"
   ]
  },
  {
   "cell_type": "code",
   "execution_count": 31,
   "metadata": {},
   "outputs": [],
   "source": [
    "# from sklearn.preprocessing import StandardScaler\n",
    "# scaler=StandardScaler()\n",
    "# x_train=scaler.fit_transform(x_train)\n",
    "# x_test=scaler.fit_transform(x_test)"
   ]
  },
  {
   "cell_type": "markdown",
   "metadata": {},
   "source": [
    "# Linear Regression"
   ]
  },
  {
   "cell_type": "code",
   "execution_count": 32,
   "metadata": {},
   "outputs": [
    {
     "data": {
      "text/plain": [
       "LinearRegression(copy_X=True, fit_intercept=True, n_jobs=None, normalize=False)"
      ]
     },
     "execution_count": 32,
     "metadata": {},
     "output_type": "execute_result"
    }
   ],
   "source": [
    "from sklearn.linear_model import LinearRegression\n",
    "from sklearn import metrics\n",
    "lin_regressor=LinearRegression()\n",
    "lin_regressor.fit(x_train,y_train)"
   ]
  },
  {
   "cell_type": "code",
   "execution_count": 33,
   "metadata": {},
   "outputs": [
    {
     "name": "stdout",
     "output_type": "stream",
     "text": [
      "--------Training Result(Linear Regression)------\n",
      "MAE: 13.116335719948534\n",
      "MSE: 307.33571694426087\n",
      "RMSE: 17.530993039307866\n"
     ]
    }
   ],
   "source": [
    "print('--------Training Result(Linear Regression)------')\n",
    "print(f'MAE: {metrics.mean_absolute_error(y_train,lin_regressor.predict(x_train))}')\n",
    "print(f'MSE: {metrics.mean_squared_error(y_train,lin_regressor.predict(x_train))}')\n",
    "print(f'RMSE: {np.sqrt(metrics.mean_squared_error(y_train,lin_regressor.predict(x_train)))}')"
   ]
  },
  {
   "cell_type": "code",
   "execution_count": 34,
   "metadata": {},
   "outputs": [
    {
     "name": "stdout",
     "output_type": "stream",
     "text": [
      "---coeffecient of respective variables--- \n",
      "\n",
      "bat_team_Chennai Super Kings: 0.497803650862873\n",
      "bat_team_Delhi Capitals: -2.826283648341655\n",
      "bat_team_Kings XI Punjab: -0.008848196183167345\n",
      "bat_team_Kolkata Knight Riders: -3.5357663860514483\n",
      "bat_team_Mumbai Indians: 2.2593969795085593\n",
      "bat_team_Rajasthan Royals: -4.287840424124791\n",
      "bat_team_Royal Challengers Bangalore: 3.2503801826769725\n",
      "bowl_team_Chennai Super Kings: 0.5629264572104614\n",
      "bowl_team_Delhi Capitals: 1.2775852342722316\n",
      "bowl_team_Kings XI Punjab: 2.0404576531874783\n",
      "bowl_team_Kolkata Knight Riders: -2.930333341876554\n",
      "bowl_team_Mumbai Indians: 0.6173955140843786\n",
      "bowl_team_Rajasthan Royals: 0.7182887829406167\n",
      "bowl_team_Royal Challengers Bangalore: 1.1099989815236482\n",
      "runs: 0.9564065207377785\n",
      "wickets: -4.8910265495741365\n",
      "overs: -6.328553502701963\n",
      "wickets_last_5: -1.1077544379026512\n"
     ]
    }
   ],
   "source": [
    "print('---coeffecient of respective variables--- \\n')\n",
    "col=df.columns.values[0:18]\n",
    "coef=lin_regressor.coef_\n",
    "for x in range(18):\n",
    "    print(f'{col[x]}: {float(coef[x])}')"
   ]
  },
  {
   "cell_type": "code",
   "execution_count": 35,
   "metadata": {},
   "outputs": [],
   "source": [
    "y_pred=lin_regressor.predict(x_test)"
   ]
  },
  {
   "cell_type": "code",
   "execution_count": 36,
   "metadata": {},
   "outputs": [
    {
     "name": "stdout",
     "output_type": "stream",
     "text": [
      "--------Testing Result(Linear Regression)------\n",
      "MAE: 12.107491160163262\n",
      "MSE: 251.10102475179173\n",
      "RMSE: 15.846167509899411\n"
     ]
    }
   ],
   "source": [
    "print('--------Testing Result(Linear Regression)------')\n",
    "print(f'MAE: {metrics.mean_absolute_error(y_test,y_pred)}')\n",
    "print(f'MSE: {metrics.mean_squared_error(y_test,y_pred)}')\n",
    "print(f'RMSE: {np.sqrt(metrics.mean_squared_error(y_test,y_pred))}')"
   ]
  },
  {
   "cell_type": "markdown",
   "metadata": {},
   "source": [
    "# Decision tree Regression"
   ]
  },
  {
   "cell_type": "code",
   "execution_count": 37,
   "metadata": {},
   "outputs": [
    {
     "data": {
      "text/plain": [
       "DecisionTreeRegressor(ccp_alpha=0.0, criterion='mse', max_depth=None,\n",
       "                      max_features=None, max_leaf_nodes=None,\n",
       "                      min_impurity_decrease=0.0, min_impurity_split=None,\n",
       "                      min_samples_leaf=1, min_samples_split=2,\n",
       "                      min_weight_fraction_leaf=0.0, presort='deprecated',\n",
       "                      random_state=5, splitter='best')"
      ]
     },
     "execution_count": 37,
     "metadata": {},
     "output_type": "execute_result"
    }
   ],
   "source": [
    "from sklearn.tree import DecisionTreeRegressor\n",
    "decison_regressor=DecisionTreeRegressor(random_state=5)\n",
    "decison_regressor.fit(x_train,y_train)"
   ]
  },
  {
   "cell_type": "code",
   "execution_count": 38,
   "metadata": {},
   "outputs": [
    {
     "name": "stdout",
     "output_type": "stream",
     "text": [
      "--------Training Result(Decision tree Regression)------\n",
      "MAE: 0.18079292793999463\n",
      "MSE: 3.8355969282971687\n",
      "RMSE: 1.958468005431074\n"
     ]
    }
   ],
   "source": [
    "print('--------Training Result(Decision tree Regression)------')\n",
    "print(f'MAE: {metrics.mean_absolute_error(y_train,decison_regressor.predict(x_train))}')\n",
    "print(f'MSE: {metrics.mean_squared_error(y_train,decison_regressor.predict(x_train))}')\n",
    "print(f'RMSE: {np.sqrt(metrics.mean_squared_error(y_train,decison_regressor.predict(x_train)))}')"
   ]
  },
  {
   "cell_type": "code",
   "execution_count": 39,
   "metadata": {},
   "outputs": [],
   "source": [
    "y_pred=decison_regressor.predict(x_test)"
   ]
  },
  {
   "cell_type": "code",
   "execution_count": 40,
   "metadata": {},
   "outputs": [
    {
     "name": "stdout",
     "output_type": "stream",
     "text": [
      "--------Testing Result(Decision tree Regression)------\n",
      "MAE: 16.66324694024478\n",
      "MSE: 540.4493340532757\n",
      "RMSE: 23.24756619634141\n"
     ]
    }
   ],
   "source": [
    "print('--------Testing Result(Decision tree Regression)------')\n",
    "print(f'MAE: {metrics.mean_absolute_error(y_test,y_pred)}')\n",
    "print(f'MSE: {metrics.mean_squared_error(y_test,y_pred)}')\n",
    "print(f'RMSE: {np.sqrt(metrics.mean_squared_error(y_test,y_pred))}')"
   ]
  },
  {
   "cell_type": "code",
   "execution_count": 41,
   "metadata": {},
   "outputs": [],
   "source": [
    "# Decision tree Regression has been overfitted and didnt perform better than linear regression"
   ]
  },
  {
   "cell_type": "markdown",
   "metadata": {},
   "source": [
    "# Random Forest Regressor"
   ]
  },
  {
   "cell_type": "code",
   "execution_count": 42,
   "metadata": {},
   "outputs": [
    {
     "data": {
      "text/plain": [
       "RandomForestRegressor(bootstrap=True, ccp_alpha=0.0, criterion='mse',\n",
       "                      max_depth=None, max_features='auto', max_leaf_nodes=None,\n",
       "                      max_samples=None, min_impurity_decrease=0.0,\n",
       "                      min_impurity_split=None, min_samples_leaf=1,\n",
       "                      min_samples_split=2, min_weight_fraction_leaf=0.0,\n",
       "                      n_estimators=40, n_jobs=None, oob_score=False,\n",
       "                      random_state=None, verbose=0, warm_start=False)"
      ]
     },
     "execution_count": 42,
     "metadata": {},
     "output_type": "execute_result"
    }
   ],
   "source": [
    "from sklearn.ensemble import RandomForestRegressor\n",
    "random_regressor=RandomForestRegressor(n_estimators=40)\n",
    "random_regressor.fit(x_train,y_train)"
   ]
  },
  {
   "cell_type": "code",
   "execution_count": 43,
   "metadata": {
    "scrolled": true
   },
   "outputs": [
    {
     "name": "stdout",
     "output_type": "stream",
     "text": [
      "--------Training Result(Random Foreste Regression)------\n",
      "MAE: 1.8132311967692694\n",
      "MSE: 12.487785639213305\n",
      "RMSE: 3.533806112283653\n"
     ]
    }
   ],
   "source": [
    "print('--------Training Result(Random Foreste Regression)------')\n",
    "print(f'MAE: {metrics.mean_absolute_error(y_train,random_regressor.predict(x_train))}')\n",
    "print(f'MSE: {metrics.mean_squared_error(y_train,random_regressor.predict(x_train))}')\n",
    "print(f'RMSE: {np.sqrt(metrics.mean_squared_error(y_train,random_regressor.predict(x_train)))}')"
   ]
  },
  {
   "cell_type": "code",
   "execution_count": 44,
   "metadata": {},
   "outputs": [],
   "source": [
    "y_pred=random_regressor.predict(x_test)"
   ]
  },
  {
   "cell_type": "code",
   "execution_count": 45,
   "metadata": {},
   "outputs": [
    {
     "name": "stdout",
     "output_type": "stream",
     "text": [
      "--------Testing Result(Random Forest Regression)------\n",
      "MAE: 13.734549200349685\n",
      "MSE: 343.9883445984742\n",
      "RMSE: 18.54692277976253\n"
     ]
    }
   ],
   "source": [
    "print('--------Testing Result(Random Forest Regression)------')\n",
    "print(f'MAE: {metrics.mean_absolute_error(y_test,y_pred)}')\n",
    "print(f'MSE: {metrics.mean_squared_error(y_test,y_pred)}')\n",
    "print(f'RMSE: {np.sqrt(metrics.mean_squared_error(y_test,y_pred))}')"
   ]
  },
  {
   "cell_type": "code",
   "execution_count": 46,
   "metadata": {},
   "outputs": [],
   "source": [
    "# Random Forest Regression also has been overfitted and didnt perform better than linear regression"
   ]
  },
  {
   "cell_type": "markdown",
   "metadata": {},
   "source": [
    "# Support Vector Regression"
   ]
  },
  {
   "cell_type": "code",
   "execution_count": 47,
   "metadata": {},
   "outputs": [
    {
     "data": {
      "text/plain": [
       "SVR(C=1.0, cache_size=200, coef0=0.0, degree=3, epsilon=0.1, gamma='scale',\n",
       "    kernel='rbf', max_iter=-1, shrinking=True, tol=0.001, verbose=False)"
      ]
     },
     "execution_count": 47,
     "metadata": {},
     "output_type": "execute_result"
    }
   ],
   "source": [
    "from sklearn.svm import SVR\n",
    "svr_regressor=SVR()\n",
    "svr_regressor.fit(x_train,y_train)"
   ]
  },
  {
   "cell_type": "code",
   "execution_count": 48,
   "metadata": {},
   "outputs": [],
   "source": [
    "y_pred_train=svr_regressor.predict(x_train)"
   ]
  },
  {
   "cell_type": "code",
   "execution_count": 49,
   "metadata": {},
   "outputs": [
    {
     "name": "stdout",
     "output_type": "stream",
     "text": [
      "--------Training Result( Support Vector Regression)------\n",
      "MAE: 14.165285821648173\n",
      "MSE: 362.7816697167592\n",
      "RMSE: 19.04682833746236\n"
     ]
    }
   ],
   "source": [
    "print('--------Training Result( Support Vector Regression)------')\n",
    "print(f'MAE: {metrics.mean_absolute_error(y_train,y_pred_train)}')\n",
    "print(f'MSE: {metrics.mean_squared_error(y_train,y_pred_train)}')\n",
    "print(f'RMSE: {np.sqrt(metrics.mean_squared_error(y_train,y_pred_train))}')"
   ]
  },
  {
   "cell_type": "code",
   "execution_count": 50,
   "metadata": {},
   "outputs": [],
   "source": [
    "y_pred=svr_regressor.predict(x_test)"
   ]
  },
  {
   "cell_type": "code",
   "execution_count": 51,
   "metadata": {},
   "outputs": [
    {
     "name": "stdout",
     "output_type": "stream",
     "text": [
      "--------Testing Result(Support Vector Regression)------\n",
      "MAE: 14.140119566088675\n",
      "MSE: 353.22101848361655\n",
      "RMSE: 18.79417512112773\n"
     ]
    }
   ],
   "source": [
    "print('--------Testing Result(Support Vector Regression)------')\n",
    "print(f'MAE: {metrics.mean_absolute_error(y_test,y_pred)}')\n",
    "print(f'MSE: {metrics.mean_squared_error(y_test,y_pred)}')\n",
    "print(f'RMSE: {np.sqrt(metrics.mean_squared_error(y_test,y_pred))}')"
   ]
  },
  {
   "cell_type": "code",
   "execution_count": 52,
   "metadata": {},
   "outputs": [],
   "source": [
    "#Tried with feature scaleing too\n",
    "#Support Vector Regression also hadn\"t  perform better than linear regression"
   ]
  },
  {
   "cell_type": "markdown",
   "metadata": {},
   "source": [
    "# Ridge regression"
   ]
  },
  {
   "cell_type": "code",
   "execution_count": 53,
   "metadata": {},
   "outputs": [
    {
     "data": {
      "text/plain": [
       "GridSearchCV(cv=5, error_score=nan,\n",
       "             estimator=Ridge(alpha=1.0, copy_X=True, fit_intercept=True,\n",
       "                             max_iter=None, normalize=False, random_state=None,\n",
       "                             solver='auto', tol=0.001),\n",
       "             iid='deprecated', n_jobs=None,\n",
       "             param_grid={'alpha': [1e-10, 1e-07, 0.001, 0.01, 0, 1, 5, 10, 20,\n",
       "                                   30, 35, 40, 45, 50, 55]},\n",
       "             pre_dispatch='2*n_jobs', refit=True, return_train_score=False,\n",
       "             scoring='neg_mean_squared_error', verbose=0)"
      ]
     },
     "execution_count": 53,
     "metadata": {},
     "output_type": "execute_result"
    }
   ],
   "source": [
    "from sklearn.linear_model import Ridge\n",
    "from sklearn.model_selection import GridSearchCV\n",
    "ridge=Ridge()\n",
    "parameters={'alpha':[1e-10,1e-7,1e-3,1e-2,0,1,5,10,20,30,35,40,45,50,55]}\n",
    "ridge_regressor=GridSearchCV(ridge,parameters,scoring='neg_mean_squared_error',cv=5)\n",
    "ridge_regressor.fit(x_train,y_train)"
   ]
  },
  {
   "cell_type": "code",
   "execution_count": 54,
   "metadata": {},
   "outputs": [
    {
     "data": {
      "text/plain": [
       "{'alpha': 55}"
      ]
     },
     "execution_count": 54,
     "metadata": {},
     "output_type": "execute_result"
    }
   ],
   "source": [
    "ridge_regressor.best_params_"
   ]
  },
  {
   "cell_type": "code",
   "execution_count": 55,
   "metadata": {},
   "outputs": [
    {
     "data": {
      "text/plain": [
       "-326.98843174781706"
      ]
     },
     "execution_count": 55,
     "metadata": {},
     "output_type": "execute_result"
    }
   ],
   "source": [
    "ridge_regressor.best_score_"
   ]
  },
  {
   "cell_type": "code",
   "execution_count": 56,
   "metadata": {},
   "outputs": [
    {
     "name": "stdout",
     "output_type": "stream",
     "text": [
      "--------Training Result(Ridge Regression)------\n",
      "MAE: 13.114218887037516\n",
      "MSE: 307.33771728298996\n",
      "RMSE: 17.531050090710195\n"
     ]
    }
   ],
   "source": [
    "print('--------Training Result(Ridge Regression)------')\n",
    "print(f'MAE: {metrics.mean_absolute_error(y_train,ridge_regressor.predict(x_train))}')\n",
    "print(f'MSE: {metrics.mean_squared_error(y_train,ridge_regressor.predict(x_train))}')\n",
    "print(f'RMSE: {np.sqrt(metrics.mean_squared_error(y_train,ridge_regressor.predict(x_train)))}')"
   ]
  },
  {
   "cell_type": "code",
   "execution_count": 57,
   "metadata": {},
   "outputs": [],
   "source": [
    "y_pred=ridge_regressor.predict(x_test)"
   ]
  },
  {
   "cell_type": "code",
   "execution_count": 58,
   "metadata": {},
   "outputs": [
    {
     "name": "stdout",
     "output_type": "stream",
     "text": [
      "--------Testing Result(Ridge Regression)------\n",
      "MAE: 12.110588991701738\n",
      "MSE: 251.27240537124123\n",
      "RMSE: 15.851574223755861\n"
     ]
    }
   ],
   "source": [
    "print('--------Testing Result(Ridge Regression)------')\n",
    "print(f'MAE: {metrics.mean_absolute_error(y_test,y_pred)}')\n",
    "print(f'MSE: {metrics.mean_squared_error(y_test,y_pred)}')\n",
    "print(f'RMSE: {np.sqrt(metrics.mean_squared_error(y_test,y_pred))}')"
   ]
  },
  {
   "cell_type": "code",
   "execution_count": 59,
   "metadata": {},
   "outputs": [],
   "source": [
    "#Ridge Regression also hadn\"t  perform better than linear regression"
   ]
  },
  {
   "cell_type": "code",
   "execution_count": 60,
   "metadata": {},
   "outputs": [],
   "source": [
    "#linear regression perform better than all other regressor"
   ]
  },
  {
   "cell_type": "code",
   "execution_count": 61,
   "metadata": {},
   "outputs": [],
   "source": [
    "lin_regressor=LinearRegression()\n",
    "lin_regressor.fit(x_train,y_train)\n",
    "y_pred=lin_regressor.predict(x_test)"
   ]
  },
  {
   "cell_type": "code",
   "execution_count": 62,
   "metadata": {},
   "outputs": [
    {
     "name": "stdout",
     "output_type": "stream",
     "text": [
      "no of predicted less: 1427\n",
      "Average less: 3.4739618570550332 \n",
      "\n",
      "no of predicted more: 1350\n",
      "Average more: 12.041243492818314\n"
     ]
    }
   ],
   "source": [
    "#to find wheather model is predcting more higher or lesser score than actual score\n",
    "less=0\n",
    "more=0\n",
    "less_sum=0\n",
    "more_sum=0\n",
    "diff=0\n",
    "equal=0\n",
    "for x in range(2777):    \n",
    "    if y_pred[x]<y_test[x]:\n",
    "        less+=1\n",
    "        dif=y_test[x]-y_pred[x]\n",
    "        less_sum+=diff\n",
    "    elif y_pred[x]>y_test[x]:\n",
    "        more+=1\n",
    "        diff=y_pred[x]-y_test[x]\n",
    "        more_sum+=diff\n",
    "    else:\n",
    "        equal+=1      \n",
    "        \n",
    "print(f'no of predicted less: {less}')\n",
    "print(f'Average less: {less_sum/less} \\n')\n",
    "print(f'no of predicted more: {more}')\n",
    "print(f'Average more: {more_sum/more}')   "
   ]
  },
  {
   "cell_type": "code",
   "execution_count": 63,
   "metadata": {},
   "outputs": [],
   "source": [
    "def predict_score(batting_team,bowling_team,overs,runs,wickets,wickets_last_5):\n",
    "    if batting_team=='Chennai Super Kings':\n",
    "        batting=[1,0,0,0,0,0,0]\n",
    "    elif batting_team=='Delhi Capitals':\n",
    "        batting=[0,1,0,0,0,0,0]\n",
    "    elif batting_team=='Kings XI Punjab':\n",
    "        batting=[1,0,1,0,0,0,0]\n",
    "    elif batting_team=='Kolkata Knight Riders':\n",
    "        batting=[0,0,0,1,0,0,0]\n",
    "    elif batting_team=='Mumbai Indians':\n",
    "        batting=[0,0,0,0,1,0,0]\n",
    "    elif batting_team=='Rajasthan Royals':\n",
    "        batting=[0,0,0,0,0,1,0]\n",
    "    elif batting_team=='Royal Challengers Bangalore':\n",
    "        batting=[0,0,0,0,0,0,1]\n",
    "    elif batting_team=='Sunrisers Hyderabad':\n",
    "        batting=[0,0,0,0,0,0,0]\n",
    "        \n",
    "    if bowling_team=='Chennai Super Kings':\n",
    "        bowling=[1,0,0,0,0,0,0]\n",
    "    elif bowling_team=='Delhi Capitals':\n",
    "        bowling=[0,1,0,0,0,0,0]\n",
    "    elif bowling_team=='Kings XI Punjab':\n",
    "        bowling=[1,0,1,0,0,0,0]\n",
    "    elif bowling_team=='Kolkata Knight Riders':\n",
    "        bowling=[0,0,0,1,0,0,0]\n",
    "    elif bowling_team=='Mumbai Indians':\n",
    "        bowling=[0,0,0,0,1,0,0]\n",
    "    elif bowling_team=='Rajasthan Royals':\n",
    "        bowling=[0,0,0,0,0,1,0]\n",
    "    elif bowling_team=='Royal Challengers Bangalore':\n",
    "        bowling=[0,0,0,0,0,0,1]\n",
    "    elif bowling_team=='Sunrisers Hyderabad':\n",
    "        bowling=[0,0,0,0,0,0,0]\n",
    "     \n",
    "    x=np.array(batting+bowling+[runs,wickets,overs,wickets_last_5])\n",
    "    x=x.reshape(1,-1)\n",
    "    total_run=lin_regressor.predict(x)\n",
    "    total_run\n",
    "    print(f'Predicted score range: {int(total_run[0]-10)} to {int(total_run[0]+5)}')"
   ]
  },
  {
   "cell_type": "code",
   "execution_count": 64,
   "metadata": {},
   "outputs": [],
   "source": [
    "#Model trained :2007AD-2016Ad matches data\n",
    "#Model tested :2017AD matches data\n",
    "#Let's find how it performs on 2018,2019 matches"
   ]
  },
  {
   "cell_type": "markdown",
   "metadata": {},
   "source": [
    "# Prediction :1"
   ]
  },
  {
   "cell_type": "markdown",
   "metadata": {},
   "source": [
    "Match-14th: MI vs RCB <br>\n",
    "Date: Tuesday, April 17, 2018<br>\n",
    "MI: 213/6 (20)<br>\n",
    "RCB: 167/8 (20)"
   ]
  },
  {
   "cell_type": "markdown",
   "metadata": {},
   "source": [
    "1st inning score: 213/6"
   ]
  },
  {
   "cell_type": "code",
   "execution_count": 66,
   "metadata": {},
   "outputs": [
    {
     "name": "stdout",
     "output_type": "stream",
     "text": [
      "Predicted score range: 182 to 197\n"
     ]
    }
   ],
   "source": [
    "predict_score('Mumbai Indians','Royal Challengers Bangalore',11,108,2,0)"
   ]
  },
  {
   "cell_type": "markdown",
   "metadata": {},
   "source": [
    "# Prediction :2"
   ]
  },
  {
   "cell_type": "markdown",
   "metadata": {},
   "source": [
    "Match:SRH vs KKR, Qualifier 2<br>\n",
    "Date:Friday, May 25, 2018<br>\n",
    "SRH 174/7 (20)<br>\n",
    "KKR 160/9 (20)<br>"
   ]
  },
  {
   "cell_type": "markdown",
   "metadata": {},
   "source": [
    "1st inning score: 174/7"
   ]
  },
  {
   "cell_type": "code",
   "execution_count": 67,
   "metadata": {},
   "outputs": [
    {
     "name": "stdout",
     "output_type": "stream",
     "text": [
      "Predicted score range: 150 to 165\n"
     ]
    }
   ],
   "source": [
    "predict_score('Sunrisers Hyderabad','Kolkata Knight Riders',10.2,84,3,3)"
   ]
  },
  {
   "cell_type": "markdown",
   "metadata": {},
   "source": [
    "# Prediction: 3"
   ]
  },
  {
   "cell_type": "markdown",
   "metadata": {},
   "source": [
    "Match:RR vs KXIP, 4th Match <br>\n",
    "Date:Monday, March 25, 2019<br>\n",
    "KXIP 184/4 (20)<br>\n",
    "RR 170/9 (20)<br>"
   ]
  },
  {
   "cell_type": "markdown",
   "metadata": {},
   "source": [
    "1st inning score: 184/4"
   ]
  },
  {
   "cell_type": "code",
   "execution_count": 68,
   "metadata": {},
   "outputs": [
    {
     "name": "stdout",
     "output_type": "stream",
     "text": [
      "Predicted score range: 170 to 185\n"
     ]
    }
   ],
   "source": [
    "predict_score('Kings XI Punjab','Rajasthan Royals',13.4,113,2,0)"
   ]
  },
  {
   "cell_type": "markdown",
   "metadata": {},
   "source": [
    "# Prediction: 4"
   ]
  },
  {
   "cell_type": "markdown",
   "metadata": {},
   "source": [
    "Match:DC vs CSK, 5th Match<br>\n",
    "Date:Thursday, march 26, 2019<br>\n",
    "DC 147/6 (20)<br>\n",
    "CSK 150/4 (19.4)<br>"
   ]
  },
  {
   "cell_type": "markdown",
   "metadata": {},
   "source": [
    "1st inning score: 147/6"
   ]
  },
  {
   "cell_type": "code",
   "execution_count": 73,
   "metadata": {},
   "outputs": [
    {
     "name": "stdout",
     "output_type": "stream",
     "text": [
      "Predicted score range: 152 to 167\n"
     ]
    }
   ],
   "source": [
    "predict_score('Delhi Capitals','Chennai Super Kings',13.4,100,2,1)"
   ]
  },
  {
   "cell_type": "markdown",
   "metadata": {},
   "source": [
    "# Prediction: 5"
   ]
  },
  {
   "cell_type": "markdown",
   "metadata": {},
   "source": [
    "Match:RCB vs KKR, 17th Match, Indian Premier League 2019<br>\n",
    "Date:Friday, April 05, 2019<br>\n",
    "RCB 205/3 (20)<br>\n",
    "KKR 206/5 (19.1)<br>"
   ]
  },
  {
   "cell_type": "markdown",
   "metadata": {},
   "source": [
    "1st inning score: 205/3"
   ]
  },
  {
   "cell_type": "code",
   "execution_count": 69,
   "metadata": {},
   "outputs": [
    {
     "name": "stdout",
     "output_type": "stream",
     "text": [
      "Predicted score range: 174 to 189\n"
     ]
    }
   ],
   "source": [
    "predict_score('Royal Challengers Bangalore','Kolkata Knight Riders',14,118,1,0)"
   ]
  },
  {
   "cell_type": "markdown",
   "metadata": {},
   "source": [
    "# Prediction: 6"
   ]
  },
  {
   "cell_type": "markdown",
   "metadata": {},
   "source": [
    "Match:MI vs CSK, Final<br>\n",
    "Date:Sunday, May 12, 2019<br>\n",
    "MI 149/8 (20)<br>\n",
    "CSK 148/7 (20)<br>"
   ]
  },
  {
   "cell_type": "markdown",
   "metadata": {},
   "source": [
    "1st inning score: 149/8"
   ]
  },
  {
   "cell_type": "code",
   "execution_count": 70,
   "metadata": {},
   "outputs": [
    {
     "name": "stdout",
     "output_type": "stream",
     "text": [
      "Predicted score range: 147 to 162\n"
     ]
    }
   ],
   "source": [
    "predict_score('Mumbai Indians','Chennai Super Kings',12,85,3,1)"
   ]
  },
  {
   "cell_type": "markdown",
   "metadata": {},
   "source": [
    "# Saving Model in pickle"
   ]
  },
  {
   "cell_type": "code",
   "execution_count": 76,
   "metadata": {},
   "outputs": [],
   "source": [
    "import pickle \n",
    "pickle.dump(lin_regressor,open('model.pkl','wb'))"
   ]
  },
  {
   "cell_type": "code",
   "execution_count": null,
   "metadata": {},
   "outputs": [],
   "source": []
  }
 ],
 "metadata": {
  "kernelspec": {
   "display_name": "Python 3",
   "language": "python",
   "name": "python3"
  },
  "language_info": {
   "codemirror_mode": {
    "name": "ipython",
    "version": 3
   },
   "file_extension": ".py",
   "mimetype": "text/x-python",
   "name": "python",
   "nbconvert_exporter": "python",
   "pygments_lexer": "ipython3",
   "version": "3.7.6"
  }
 },
 "nbformat": 4,
 "nbformat_minor": 4
}
